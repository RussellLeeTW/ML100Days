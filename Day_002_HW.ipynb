{
  "nbformat": 4,
  "nbformat_minor": 0,
  "metadata": {
    "kernelspec": {
      "display_name": "Python 3",
      "language": "python",
      "name": "python3"
    },
    "language_info": {
      "codemirror_mode": {
        "name": "ipython",
        "version": 3
      },
      "file_extension": ".py",
      "mimetype": "text/x-python",
      "name": "python",
      "nbconvert_exporter": "python",
      "pygments_lexer": "ipython3",
      "version": "3.6.6"
    },
    "colab": {
      "name": "Day_002_HW.ipynb",
      "provenance": [],
      "include_colab_link": true
    }
  },
  "cells": [
    {
      "cell_type": "markdown",
      "metadata": {
        "id": "view-in-github",
        "colab_type": "text"
      },
      "source": [
        "<a href=\"https://colab.research.google.com/github/RussellLeeTW/ML100Days/blob/main/Day_002_HW.ipynb\" target=\"_parent\"><img src=\"https://colab.research.google.com/assets/colab-badge.svg\" alt=\"Open In Colab\"/></a>"
      ]
    },
    {
      "cell_type": "markdown",
      "metadata": {
        "id": "wo9uKdV4sjPz"
      },
      "source": [
        "## [作業目標]\n",
        "了解機器學習適合應用的領域與範疇。"
      ]
    },
    {
      "cell_type": "markdown",
      "metadata": {
        "id": "SN5kn744sjP5"
      },
      "source": [
        "## [作業重點]\n",
        "透過瞭解機器學習的運作方式，找出非常適用機器學習應用的領域及其原因"
      ]
    },
    {
      "cell_type": "markdown",
      "metadata": {
        "id": "hWckxInysjP6"
      },
      "source": [
        "## 作業\n",
        "請找出一個你認為機器學習可以發光發熱的領域並闡述原因? "
      ]
    },
    {
      "cell_type": "code",
      "metadata": {
        "id": "xmFFc-0vsjP6"
      },
      "source": [
        "製造業產線瑕疵檢測，未來產線少量多樣,人力須求不足，經驗難以傳承,須要有能持續學習/永不罷工/穩定品檢產出的輔助工具, 能為工廠帶來內部與外部效益，非機器學習莫屬。"
      ],
      "execution_count": 1,
      "outputs": []
    }
  ]
}