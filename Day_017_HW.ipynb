{
  "nbformat": 4,
  "nbformat_minor": 0,
  "metadata": {
    "kernelspec": {
      "display_name": "Python 3",
      "language": "python",
      "name": "python3"
    },
    "language_info": {
      "codemirror_mode": {
        "name": "ipython",
        "version": 3
      },
      "file_extension": ".py",
      "mimetype": "text/x-python",
      "name": "python",
      "nbconvert_exporter": "python",
      "pygments_lexer": "ipython3",
      "version": "3.7.0"
    },
    "colab": {
      "name": "Day_017_HW.ipynb",
      "provenance": [],
      "include_colab_link": true
    }
  },
  "cells": [
    {
      "cell_type": "markdown",
      "metadata": {
        "id": "view-in-github",
        "colab_type": "text"
      },
      "source": [
        "<a href=\"https://colab.research.google.com/github/RussellLeeTW/ML100Days/blob/main/Day_017_HW.ipynb\" target=\"_parent\"><img src=\"https://colab.research.google.com/assets/colab-badge.svg\" alt=\"Open In Colab\"/></a>"
      ]
    },
    {
      "cell_type": "markdown",
      "metadata": {
        "id": "LWIaR0c6JjrS"
      },
      "source": [
        "# 作業\n",
        "- 新增一個欄位 `customized_age_grp`，把 `age` 分為 (0, 10], (10, 20], (20, 30], (30, 50], (50, 100] 這五組，\n",
        "'(' 表示不包含, ']' 表示包含  \n",
        "- Hints: 執行 ??pd.cut()，了解提供其中 bins 這個參數的使用方式"
      ]
    },
    {
      "cell_type": "markdown",
      "metadata": {
        "id": "BG3cea41Jjrc"
      },
      "source": [
        "# [作業目標]\n",
        "- 請同學試著查詢 pandas.cut 這個函數還有哪些參數, 藉由改動參數以達成目標\n",
        "- 藉由查詢與改動參數的過程, 熟悉查詢函數的方法與理解參數性質, 並了解數值的離散化的調整工具"
      ]
    },
    {
      "cell_type": "markdown",
      "metadata": {
        "id": "ZIeQY4KhJjrd"
      },
      "source": [
        "# [作業重點]\n",
        "- 仿照 In[3], In[4] 的語法, 並設定 pd.cut 的參數以指定間距"
      ]
    },
    {
      "cell_type": "code",
      "metadata": {
        "collapsed": true,
        "id": "NtfGEimyJjrd"
      },
      "source": [
        "# 載入套件\n",
        "import os\n",
        "import numpy as np\n",
        "import pandas as pd\n",
        "\n",
        "import matplotlib.pyplot as plt\n",
        "%matplotlib inline"
      ],
      "execution_count": 2,
      "outputs": []
    },
    {
      "cell_type": "code",
      "metadata": {
        "collapsed": true,
        "id": "4GOreG40Jjre"
      },
      "source": [
        "# 初始設定 Ages 的資料\n",
        "ages = pd.DataFrame({\"age\": [18,22,25,27,7,21,23,37,30,61,45,41,9,18,80,100]})"
      ],
      "execution_count": 3,
      "outputs": []
    },
    {
      "cell_type": "markdown",
      "metadata": {
        "id": "0-4dDvxVJjrf"
      },
      "source": [
        "#### 等寬劃分"
      ]
    },
    {
      "cell_type": "code",
      "metadata": {
        "collapsed": true,
        "id": "TgnlkagDJjrf"
      },
      "source": [
        "# 新增欄位 \"equal_width_age\", 對年齡做等寬劃分\n",
        "ages[\"equal_width_age\"] = pd.cut(ages[\"age\"], 4)"
      ],
      "execution_count": 4,
      "outputs": []
    },
    {
      "cell_type": "code",
      "metadata": {
        "colab": {
          "base_uri": "https://localhost:8080/"
        },
        "id": "nDNYoshWJjrg",
        "outputId": "2f381723-64ee-478c-88c1-75a1cd2b0fef"
      },
      "source": [
        "# 觀察等寬劃分下, 每個種組距各出現幾次\n",
        "ages[\"equal_width_age\"].value_counts() # 每個 bin 的值的範圍大小都是一樣的"
      ],
      "execution_count": 5,
      "outputs": [
        {
          "output_type": "execute_result",
          "data": {
            "text/plain": [
              "(6.907, 30.25]    10\n",
              "(30.25, 53.5]      3\n",
              "(76.75, 100.0]     2\n",
              "(53.5, 76.75]      1\n",
              "Name: equal_width_age, dtype: int64"
            ]
          },
          "metadata": {
            "tags": []
          },
          "execution_count": 5
        }
      ]
    },
    {
      "cell_type": "markdown",
      "metadata": {
        "id": "gA9qBD0LJjrh"
      },
      "source": [
        "#### 等頻劃分"
      ]
    },
    {
      "cell_type": "code",
      "metadata": {
        "collapsed": true,
        "id": "yXuxOhIsJjrh"
      },
      "source": [
        "# 新增欄位 \"equal_freq_age\", 對年齡做等頻劃分\n",
        "ages[\"equal_freq_age\"] = pd.qcut(ages[\"age\"], 4)"
      ],
      "execution_count": 6,
      "outputs": []
    },
    {
      "cell_type": "code",
      "metadata": {
        "colab": {
          "base_uri": "https://localhost:8080/"
        },
        "id": "UPxrxKNFJjri",
        "outputId": "da30d331-a407-4509-fc5f-8b3edfb10dda"
      },
      "source": [
        "# 觀察等頻劃分下, 每個種組距各出現幾次\n",
        "ages[\"equal_freq_age\"].value_counts() # 每個 bin 的資料筆數是一樣的"
      ],
      "execution_count": 7,
      "outputs": [
        {
          "output_type": "execute_result",
          "data": {
            "text/plain": [
              "(42.0, 100.0]     4\n",
              "(26.0, 42.0]      4\n",
              "(20.25, 26.0]     4\n",
              "(6.999, 20.25]    4\n",
              "Name: equal_freq_age, dtype: int64"
            ]
          },
          "metadata": {
            "tags": []
          },
          "execution_count": 7
        }
      ]
    },
    {
      "cell_type": "code",
      "metadata": {
        "collapsed": true,
        "id": "8tmyqec_Jjri"
      },
      "source": [
        "bin_cut = pd.IntervalIndex.from_tuples([(0, 10), (10, 20), (20, 30), (30, 50), (50, 100) ])\n",
        "ages[\"customized_age_grp\"] = pd.cut( ages[\"age\"], bins = bin_cut, right = False, include_lowest = True )"
      ],
      "execution_count": 8,
      "outputs": []
    },
    {
      "cell_type": "code",
      "metadata": {
        "colab": {
          "base_uri": "https://localhost:8080/",
          "height": 545
        },
        "id": "OiEPegS6LmQK",
        "outputId": "9bd8a1dc-18c8-4a15-a726-a9f9165fef7e"
      },
      "source": [
        "ages"
      ],
      "execution_count": 9,
      "outputs": [
        {
          "output_type": "execute_result",
          "data": {
            "text/html": [
              "<div>\n",
              "<style scoped>\n",
              "    .dataframe tbody tr th:only-of-type {\n",
              "        vertical-align: middle;\n",
              "    }\n",
              "\n",
              "    .dataframe tbody tr th {\n",
              "        vertical-align: top;\n",
              "    }\n",
              "\n",
              "    .dataframe thead th {\n",
              "        text-align: right;\n",
              "    }\n",
              "</style>\n",
              "<table border=\"1\" class=\"dataframe\">\n",
              "  <thead>\n",
              "    <tr style=\"text-align: right;\">\n",
              "      <th></th>\n",
              "      <th>age</th>\n",
              "      <th>equal_width_age</th>\n",
              "      <th>equal_freq_age</th>\n",
              "      <th>customized_age_grp</th>\n",
              "    </tr>\n",
              "  </thead>\n",
              "  <tbody>\n",
              "    <tr>\n",
              "      <th>0</th>\n",
              "      <td>18</td>\n",
              "      <td>(6.907, 30.25]</td>\n",
              "      <td>(6.999, 20.25]</td>\n",
              "      <td>(10, 20]</td>\n",
              "    </tr>\n",
              "    <tr>\n",
              "      <th>1</th>\n",
              "      <td>22</td>\n",
              "      <td>(6.907, 30.25]</td>\n",
              "      <td>(20.25, 26.0]</td>\n",
              "      <td>(20, 30]</td>\n",
              "    </tr>\n",
              "    <tr>\n",
              "      <th>2</th>\n",
              "      <td>25</td>\n",
              "      <td>(6.907, 30.25]</td>\n",
              "      <td>(20.25, 26.0]</td>\n",
              "      <td>(20, 30]</td>\n",
              "    </tr>\n",
              "    <tr>\n",
              "      <th>3</th>\n",
              "      <td>27</td>\n",
              "      <td>(6.907, 30.25]</td>\n",
              "      <td>(26.0, 42.0]</td>\n",
              "      <td>(20, 30]</td>\n",
              "    </tr>\n",
              "    <tr>\n",
              "      <th>4</th>\n",
              "      <td>7</td>\n",
              "      <td>(6.907, 30.25]</td>\n",
              "      <td>(6.999, 20.25]</td>\n",
              "      <td>(0, 10]</td>\n",
              "    </tr>\n",
              "    <tr>\n",
              "      <th>5</th>\n",
              "      <td>21</td>\n",
              "      <td>(6.907, 30.25]</td>\n",
              "      <td>(20.25, 26.0]</td>\n",
              "      <td>(20, 30]</td>\n",
              "    </tr>\n",
              "    <tr>\n",
              "      <th>6</th>\n",
              "      <td>23</td>\n",
              "      <td>(6.907, 30.25]</td>\n",
              "      <td>(20.25, 26.0]</td>\n",
              "      <td>(20, 30]</td>\n",
              "    </tr>\n",
              "    <tr>\n",
              "      <th>7</th>\n",
              "      <td>37</td>\n",
              "      <td>(30.25, 53.5]</td>\n",
              "      <td>(26.0, 42.0]</td>\n",
              "      <td>(30, 50]</td>\n",
              "    </tr>\n",
              "    <tr>\n",
              "      <th>8</th>\n",
              "      <td>30</td>\n",
              "      <td>(6.907, 30.25]</td>\n",
              "      <td>(26.0, 42.0]</td>\n",
              "      <td>(20, 30]</td>\n",
              "    </tr>\n",
              "    <tr>\n",
              "      <th>9</th>\n",
              "      <td>61</td>\n",
              "      <td>(53.5, 76.75]</td>\n",
              "      <td>(42.0, 100.0]</td>\n",
              "      <td>(50, 100]</td>\n",
              "    </tr>\n",
              "    <tr>\n",
              "      <th>10</th>\n",
              "      <td>45</td>\n",
              "      <td>(30.25, 53.5]</td>\n",
              "      <td>(42.0, 100.0]</td>\n",
              "      <td>(30, 50]</td>\n",
              "    </tr>\n",
              "    <tr>\n",
              "      <th>11</th>\n",
              "      <td>41</td>\n",
              "      <td>(30.25, 53.5]</td>\n",
              "      <td>(26.0, 42.0]</td>\n",
              "      <td>(30, 50]</td>\n",
              "    </tr>\n",
              "    <tr>\n",
              "      <th>12</th>\n",
              "      <td>9</td>\n",
              "      <td>(6.907, 30.25]</td>\n",
              "      <td>(6.999, 20.25]</td>\n",
              "      <td>(0, 10]</td>\n",
              "    </tr>\n",
              "    <tr>\n",
              "      <th>13</th>\n",
              "      <td>18</td>\n",
              "      <td>(6.907, 30.25]</td>\n",
              "      <td>(6.999, 20.25]</td>\n",
              "      <td>(10, 20]</td>\n",
              "    </tr>\n",
              "    <tr>\n",
              "      <th>14</th>\n",
              "      <td>80</td>\n",
              "      <td>(76.75, 100.0]</td>\n",
              "      <td>(42.0, 100.0]</td>\n",
              "      <td>(50, 100]</td>\n",
              "    </tr>\n",
              "    <tr>\n",
              "      <th>15</th>\n",
              "      <td>100</td>\n",
              "      <td>(76.75, 100.0]</td>\n",
              "      <td>(42.0, 100.0]</td>\n",
              "      <td>(50, 100]</td>\n",
              "    </tr>\n",
              "  </tbody>\n",
              "</table>\n",
              "</div>"
            ],
            "text/plain": [
              "    age equal_width_age  equal_freq_age customized_age_grp\n",
              "0    18  (6.907, 30.25]  (6.999, 20.25]           (10, 20]\n",
              "1    22  (6.907, 30.25]   (20.25, 26.0]           (20, 30]\n",
              "2    25  (6.907, 30.25]   (20.25, 26.0]           (20, 30]\n",
              "3    27  (6.907, 30.25]    (26.0, 42.0]           (20, 30]\n",
              "4     7  (6.907, 30.25]  (6.999, 20.25]            (0, 10]\n",
              "5    21  (6.907, 30.25]   (20.25, 26.0]           (20, 30]\n",
              "6    23  (6.907, 30.25]   (20.25, 26.0]           (20, 30]\n",
              "7    37   (30.25, 53.5]    (26.0, 42.0]           (30, 50]\n",
              "8    30  (6.907, 30.25]    (26.0, 42.0]           (20, 30]\n",
              "9    61   (53.5, 76.75]   (42.0, 100.0]          (50, 100]\n",
              "10   45   (30.25, 53.5]   (42.0, 100.0]           (30, 50]\n",
              "11   41   (30.25, 53.5]    (26.0, 42.0]           (30, 50]\n",
              "12    9  (6.907, 30.25]  (6.999, 20.25]            (0, 10]\n",
              "13   18  (6.907, 30.25]  (6.999, 20.25]           (10, 20]\n",
              "14   80  (76.75, 100.0]   (42.0, 100.0]          (50, 100]\n",
              "15  100  (76.75, 100.0]   (42.0, 100.0]          (50, 100]"
            ]
          },
          "metadata": {
            "tags": []
          },
          "execution_count": 9
        }
      ]
    },
    {
      "cell_type": "code",
      "metadata": {
        "id": "OB6U2jCCNHmT"
      },
      "source": [
        "bin_cut = pd.IntervalIndex.from_breaks( [0, 10, 20, 30, 50, 100 ] )\n",
        "ages[\"customized_age_grp\"] = pd.cut( ages[\"age\"], bins = bin_cut, right = True, include_lowest = True )"
      ],
      "execution_count": 15,
      "outputs": []
    },
    {
      "cell_type": "code",
      "metadata": {
        "colab": {
          "base_uri": "https://localhost:8080/",
          "height": 545
        },
        "id": "ANt-xewzLoCI",
        "outputId": "b7626963-75ac-4fc0-a71b-2c87c2a4d9b8"
      },
      "source": [
        "ages"
      ],
      "execution_count": 11,
      "outputs": [
        {
          "output_type": "execute_result",
          "data": {
            "text/html": [
              "<div>\n",
              "<style scoped>\n",
              "    .dataframe tbody tr th:only-of-type {\n",
              "        vertical-align: middle;\n",
              "    }\n",
              "\n",
              "    .dataframe tbody tr th {\n",
              "        vertical-align: top;\n",
              "    }\n",
              "\n",
              "    .dataframe thead th {\n",
              "        text-align: right;\n",
              "    }\n",
              "</style>\n",
              "<table border=\"1\" class=\"dataframe\">\n",
              "  <thead>\n",
              "    <tr style=\"text-align: right;\">\n",
              "      <th></th>\n",
              "      <th>age</th>\n",
              "      <th>equal_width_age</th>\n",
              "      <th>equal_freq_age</th>\n",
              "      <th>customized_age_grp</th>\n",
              "    </tr>\n",
              "  </thead>\n",
              "  <tbody>\n",
              "    <tr>\n",
              "      <th>0</th>\n",
              "      <td>18</td>\n",
              "      <td>(6.907, 30.25]</td>\n",
              "      <td>(6.999, 20.25]</td>\n",
              "      <td>(10, 20]</td>\n",
              "    </tr>\n",
              "    <tr>\n",
              "      <th>1</th>\n",
              "      <td>22</td>\n",
              "      <td>(6.907, 30.25]</td>\n",
              "      <td>(20.25, 26.0]</td>\n",
              "      <td>(20, 30]</td>\n",
              "    </tr>\n",
              "    <tr>\n",
              "      <th>2</th>\n",
              "      <td>25</td>\n",
              "      <td>(6.907, 30.25]</td>\n",
              "      <td>(20.25, 26.0]</td>\n",
              "      <td>(20, 30]</td>\n",
              "    </tr>\n",
              "    <tr>\n",
              "      <th>3</th>\n",
              "      <td>27</td>\n",
              "      <td>(6.907, 30.25]</td>\n",
              "      <td>(26.0, 42.0]</td>\n",
              "      <td>(20, 30]</td>\n",
              "    </tr>\n",
              "    <tr>\n",
              "      <th>4</th>\n",
              "      <td>7</td>\n",
              "      <td>(6.907, 30.25]</td>\n",
              "      <td>(6.999, 20.25]</td>\n",
              "      <td>(0, 10]</td>\n",
              "    </tr>\n",
              "    <tr>\n",
              "      <th>5</th>\n",
              "      <td>21</td>\n",
              "      <td>(6.907, 30.25]</td>\n",
              "      <td>(20.25, 26.0]</td>\n",
              "      <td>(20, 30]</td>\n",
              "    </tr>\n",
              "    <tr>\n",
              "      <th>6</th>\n",
              "      <td>23</td>\n",
              "      <td>(6.907, 30.25]</td>\n",
              "      <td>(20.25, 26.0]</td>\n",
              "      <td>(20, 30]</td>\n",
              "    </tr>\n",
              "    <tr>\n",
              "      <th>7</th>\n",
              "      <td>37</td>\n",
              "      <td>(30.25, 53.5]</td>\n",
              "      <td>(26.0, 42.0]</td>\n",
              "      <td>(30, 50]</td>\n",
              "    </tr>\n",
              "    <tr>\n",
              "      <th>8</th>\n",
              "      <td>30</td>\n",
              "      <td>(6.907, 30.25]</td>\n",
              "      <td>(26.0, 42.0]</td>\n",
              "      <td>(20, 30]</td>\n",
              "    </tr>\n",
              "    <tr>\n",
              "      <th>9</th>\n",
              "      <td>61</td>\n",
              "      <td>(53.5, 76.75]</td>\n",
              "      <td>(42.0, 100.0]</td>\n",
              "      <td>(50, 100]</td>\n",
              "    </tr>\n",
              "    <tr>\n",
              "      <th>10</th>\n",
              "      <td>45</td>\n",
              "      <td>(30.25, 53.5]</td>\n",
              "      <td>(42.0, 100.0]</td>\n",
              "      <td>(30, 50]</td>\n",
              "    </tr>\n",
              "    <tr>\n",
              "      <th>11</th>\n",
              "      <td>41</td>\n",
              "      <td>(30.25, 53.5]</td>\n",
              "      <td>(26.0, 42.0]</td>\n",
              "      <td>(30, 50]</td>\n",
              "    </tr>\n",
              "    <tr>\n",
              "      <th>12</th>\n",
              "      <td>9</td>\n",
              "      <td>(6.907, 30.25]</td>\n",
              "      <td>(6.999, 20.25]</td>\n",
              "      <td>(0, 10]</td>\n",
              "    </tr>\n",
              "    <tr>\n",
              "      <th>13</th>\n",
              "      <td>18</td>\n",
              "      <td>(6.907, 30.25]</td>\n",
              "      <td>(6.999, 20.25]</td>\n",
              "      <td>(10, 20]</td>\n",
              "    </tr>\n",
              "    <tr>\n",
              "      <th>14</th>\n",
              "      <td>80</td>\n",
              "      <td>(76.75, 100.0]</td>\n",
              "      <td>(42.0, 100.0]</td>\n",
              "      <td>(50, 100]</td>\n",
              "    </tr>\n",
              "    <tr>\n",
              "      <th>15</th>\n",
              "      <td>100</td>\n",
              "      <td>(76.75, 100.0]</td>\n",
              "      <td>(42.0, 100.0]</td>\n",
              "      <td>(50, 100]</td>\n",
              "    </tr>\n",
              "  </tbody>\n",
              "</table>\n",
              "</div>"
            ],
            "text/plain": [
              "    age equal_width_age  equal_freq_age customized_age_grp\n",
              "0    18  (6.907, 30.25]  (6.999, 20.25]           (10, 20]\n",
              "1    22  (6.907, 30.25]   (20.25, 26.0]           (20, 30]\n",
              "2    25  (6.907, 30.25]   (20.25, 26.0]           (20, 30]\n",
              "3    27  (6.907, 30.25]    (26.0, 42.0]           (20, 30]\n",
              "4     7  (6.907, 30.25]  (6.999, 20.25]            (0, 10]\n",
              "5    21  (6.907, 30.25]   (20.25, 26.0]           (20, 30]\n",
              "6    23  (6.907, 30.25]   (20.25, 26.0]           (20, 30]\n",
              "7    37   (30.25, 53.5]    (26.0, 42.0]           (30, 50]\n",
              "8    30  (6.907, 30.25]    (26.0, 42.0]           (20, 30]\n",
              "9    61   (53.5, 76.75]   (42.0, 100.0]          (50, 100]\n",
              "10   45   (30.25, 53.5]   (42.0, 100.0]           (30, 50]\n",
              "11   41   (30.25, 53.5]    (26.0, 42.0]           (30, 50]\n",
              "12    9  (6.907, 30.25]  (6.999, 20.25]            (0, 10]\n",
              "13   18  (6.907, 30.25]  (6.999, 20.25]           (10, 20]\n",
              "14   80  (76.75, 100.0]   (42.0, 100.0]          (50, 100]\n",
              "15  100  (76.75, 100.0]   (42.0, 100.0]          (50, 100]"
            ]
          },
          "metadata": {
            "tags": []
          },
          "execution_count": 11
        }
      ]
    }
  ]
}